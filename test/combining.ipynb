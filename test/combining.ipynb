{
 "cells": [
  {
   "cell_type": "code",
   "execution_count": 6,
   "metadata": {},
   "outputs": [],
   "source": [
    "sample_response = [{'Amount': '297.99', 'Date': '2023-11-23', 'Bonus': ['Electronics'], 'What': 'Programming', 'Place': 'COSTCO'}, {'Amount': '220.00', 'Date': '2023-11-23', 'Bonus': ['Electronics'], 'What': 'Programming', 'Place': 'COSTCO'}]"
   ]
  },
  {
   "cell_type": "code",
   "execution_count": 8,
   "metadata": {},
   "outputs": [
    {
     "data": {
      "text/plain": [
       "{'Amount': '297.99',\n",
       " 'Date': '2023-11-23',\n",
       " 'Bonus': ['Electronics'],\n",
       " 'What': 'Programming',\n",
       " 'Place': 'COSTCO'}"
      ]
     },
     "execution_count": 8,
     "metadata": {},
     "output_type": "execute_result"
    }
   ],
   "source": [
    "sample_response[0]"
   ]
  },
  {
   "cell_type": "code",
   "execution_count": 9,
   "metadata": {},
   "outputs": [
    {
     "data": {
      "text/plain": [
       "{'Amount': '220.00',\n",
       " 'Date': '2023-11-23',\n",
       " 'Bonus': ['Electronics'],\n",
       " 'What': 'Programming',\n",
       " 'Place': 'COSTCO'}"
      ]
     },
     "execution_count": 9,
     "metadata": {},
     "output_type": "execute_result"
    }
   ],
   "source": [
    "sample_response[1]"
   ]
  }
 ],
 "metadata": {
  "kernelspec": {
   "display_name": "snaptrack-Y57Zj7yC-py3.9",
   "language": "python",
   "name": "python3"
  },
  "language_info": {
   "codemirror_mode": {
    "name": "ipython",
    "version": 3
   },
   "file_extension": ".py",
   "mimetype": "text/x-python",
   "name": "python",
   "nbconvert_exporter": "python",
   "pygments_lexer": "ipython3",
   "version": "3.9.13"
  }
 },
 "nbformat": 4,
 "nbformat_minor": 2
}
