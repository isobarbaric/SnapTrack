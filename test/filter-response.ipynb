{
 "cells": [
  {
   "cell_type": "code",
   "execution_count": 13,
   "metadata": {},
   "outputs": [],
   "source": [
    "import json\n",
    "\n",
    "with open('aws-sample-response1.json', 'r') as f:\n",
    "    a = json.load(f)"
   ]
  },
  {
   "cell_type": "code",
   "execution_count": 14,
   "metadata": {},
   "outputs": [
    {
     "data": {
      "text/plain": [
       "{'DetectedText': 'ROYAL AUTO CENTRE EMIS',\n",
       " 'Type': 'LINE',\n",
       " 'Id': 0,\n",
       " 'Confidence': 99.6866226196289,\n",
       " 'Geometry': {'BoundingBox': {'Width': 0.6476086974143982,\n",
       "   'Height': 0.05238904058933258,\n",
       "   'Left': 0.15336818993091583,\n",
       "   'Top': 0.08562464267015457},\n",
       "  'Polygon': [{'X': 0.15736129879951477, 'Y': 0.08562464267015457},\n",
       "   {'X': 0.8009768724441528, 'Y': 0.11372304707765579},\n",
       "   {'X': 0.7969837784767151, 'Y': 0.13801367580890656},\n",
       "   {'X': 0.15336818993091583, 'Y': 0.10991527885198593}]}}"
      ]
     },
     "execution_count": 14,
     "metadata": {},
     "output_type": "execute_result"
    }
   ],
   "source": [
    "a['TextDetections'][0]"
   ]
  },
  {
   "cell_type": "code",
   "execution_count": 15,
   "metadata": {},
   "outputs": [
    {
     "data": {
      "text/plain": [
       "'ROYAL AUTO CENTRE EMIS'"
      ]
     },
     "execution_count": 15,
     "metadata": {},
     "output_type": "execute_result"
    }
   ],
   "source": [
    "a['TextDetections'][0]['DetectedText']"
   ]
  },
  {
   "cell_type": "code",
   "execution_count": 16,
   "metadata": {},
   "outputs": [],
   "source": [
    "extract = []"
   ]
  },
  {
   "cell_type": "code",
   "execution_count": 17,
   "metadata": {},
   "outputs": [],
   "source": [
    "for elem in a['TextDetections']:\n",
    "    # print(elem['DetectedText'])\n",
    "    extract.append(elem['DetectedText'])"
   ]
  },
  {
   "cell_type": "code",
   "execution_count": 18,
   "metadata": {},
   "outputs": [
    {
     "data": {
      "text/plain": [
       "\"['ROYAL AUTO CENTRE EMIS', '5 MELANIE DRIVE UN L6T4K8', 'BRAMPTON', 'ON', '22376319', 'TD2237631902', 'SALE', 'Batch #: 988', 'RRN: 0019880100', '11/04/23', '14:49:43', 'Invoice #: 10', 'REF#: 00000010', 'APPR CODE: 08308F', 'VISA', 'Chip', '**', '(**', '************ 4813', 'VISA CREDIT', 'AID: A0000000031010', '$551.44', 'AMOUNT', '001 APPROVED', 'Retain this CODY for your', 'records', 'CUSTOMER COPY', 'ROYAL', 'AUTO', 'CENTRE', 'EMIS', '5', 'MELANIE', 'DRIVE', 'UN', 'L6T4K8', 'BRAMPTON', 'ON', '22376319', 'TD2237631902', 'SALE', 'Batch', '#:', '988', 'RRN:', '0019880100', '11/04/23', '14:49:43', 'Invoice', '#:', '10', 'REF#:', '00000010', 'APPR', 'CODE:', '08308F', 'VISA', 'Chip', '**', '(**', '************', '4813', 'VISA', 'CREDIT', 'AID:', 'A0000000031010', '$551.44', 'AMOUNT', '001', 'APPROVED', 'Retain', 'this', 'CODY', 'for', 'your', 'records', 'CUSTOMER', 'COPY']\""
      ]
     },
     "execution_count": 18,
     "metadata": {},
     "output_type": "execute_result"
    }
   ],
   "source": [
    "str(extract)"
   ]
  },
  {
   "cell_type": "code",
   "execution_count": 19,
   "metadata": {},
   "outputs": [
    {
     "data": {
      "text/plain": [
       "['ROYAL AUTO CENTRE EMIS',\n",
       " '5 MELANIE DRIVE UN L6T4K8',\n",
       " 'BRAMPTON',\n",
       " 'ON',\n",
       " '22376319',\n",
       " 'TD2237631902',\n",
       " 'SALE',\n",
       " 'Batch #: 988',\n",
       " 'RRN: 0019880100',\n",
       " '11/04/23',\n",
       " '14:49:43',\n",
       " 'Invoice #: 10',\n",
       " 'REF#: 00000010',\n",
       " 'APPR CODE: 08308F',\n",
       " 'VISA',\n",
       " 'Chip',\n",
       " '**',\n",
       " '(**',\n",
       " '************ 4813',\n",
       " 'VISA CREDIT',\n",
       " 'AID: A0000000031010',\n",
       " '$551.44',\n",
       " 'AMOUNT',\n",
       " '001 APPROVED',\n",
       " 'Retain this CODY for your',\n",
       " 'records',\n",
       " 'CUSTOMER COPY',\n",
       " 'ROYAL',\n",
       " 'AUTO',\n",
       " 'CENTRE',\n",
       " 'EMIS',\n",
       " '5',\n",
       " 'MELANIE',\n",
       " 'DRIVE',\n",
       " 'UN',\n",
       " 'L6T4K8',\n",
       " 'BRAMPTON',\n",
       " 'ON',\n",
       " '22376319',\n",
       " 'TD2237631902',\n",
       " 'SALE',\n",
       " 'Batch',\n",
       " '#:',\n",
       " '988',\n",
       " 'RRN:',\n",
       " '0019880100',\n",
       " '11/04/23',\n",
       " '14:49:43',\n",
       " 'Invoice',\n",
       " '#:',\n",
       " '10',\n",
       " 'REF#:',\n",
       " '00000010',\n",
       " 'APPR',\n",
       " 'CODE:',\n",
       " '08308F',\n",
       " 'VISA',\n",
       " 'Chip',\n",
       " '**',\n",
       " '(**',\n",
       " '************',\n",
       " '4813',\n",
       " 'VISA',\n",
       " 'CREDIT',\n",
       " 'AID:',\n",
       " 'A0000000031010',\n",
       " '$551.44',\n",
       " 'AMOUNT',\n",
       " '001',\n",
       " 'APPROVED',\n",
       " 'Retain',\n",
       " 'this',\n",
       " 'CODY',\n",
       " 'for',\n",
       " 'your',\n",
       " 'records',\n",
       " 'CUSTOMER',\n",
       " 'COPY']"
      ]
     },
     "execution_count": 19,
     "metadata": {},
     "output_type": "execute_result"
    }
   ],
   "source": [
    "extract"
   ]
  },
  {
   "cell_type": "code",
   "execution_count": 20,
   "metadata": {},
   "outputs": [
    {
     "name": "stdout",
     "output_type": "stream",
     "text": [
      "ROYAL AUTO CENTRE EMIS 5 MELANIE DRIVE UN L6T4K8 BRAMPTON ON 22376319 TD2237631902 SALE Batch #: 988 RRN: 0019880100 11/04/23 14:49:43 Invoice #: 10 REF#: 00000010 APPR CODE: 08308F VISA Chip ** (** ************ 4813 VISA CREDIT AID: A0000000031010 $551.44 AMOUNT 001 APPROVED Retain this CODY for your records CUSTOMER COPY ROYAL AUTO CENTRE EMIS 5 MELANIE DRIVE UN L6T4K8 BRAMPTON ON 22376319 TD2237631902 SALE Batch #: 988 RRN: 0019880100 11/04/23 14:49:43 Invoice #: 10 REF#: 00000010 APPR CODE: 08308F VISA Chip ** (** ************ 4813 VISA CREDIT AID: A0000000031010 $551.44 AMOUNT 001 APPROVED Retain this CODY for your records CUSTOMER COPY\n"
     ]
    }
   ],
   "source": [
    "print(*extract)"
   ]
  },
  {
   "cell_type": "code",
   "execution_count": 21,
   "metadata": {},
   "outputs": [],
   "source": [
    "with open('aws-sample-response2.json', 'r') as f:\n",
    "    b = json.load(f)"
   ]
  },
  {
   "cell_type": "code",
   "execution_count": 22,
   "metadata": {},
   "outputs": [
    {
     "data": {
      "text/plain": [
       "{'DetectedText': 'COSTCO',\n",
       " 'Type': 'LINE',\n",
       " 'Id': 0,\n",
       " 'Confidence': 93.99337768554688,\n",
       " 'Geometry': {'BoundingBox': {'Width': 0.7337096333503723,\n",
       "   'Height': 0.08817814290523529,\n",
       "   'Left': 0.1586524099111557,\n",
       "   'Top': 0.048054054379463196},\n",
       "  'Polygon': [{'X': 0.18193426728248596, 'Y': 0.048054054379463196},\n",
       "   {'X': 0.8923619985580444, 'Y': 0.08097729831933975},\n",
       "   {'X': 0.8690802454948425, 'Y': 0.1362321972846985},\n",
       "   {'X': 0.1586524099111557, 'Y': 0.10330895334482193}]}}"
      ]
     },
     "execution_count": 22,
     "metadata": {},
     "output_type": "execute_result"
    }
   ],
   "source": [
    "b['TextDetections'][0]"
   ]
  },
  {
   "cell_type": "code",
   "execution_count": 23,
   "metadata": {},
   "outputs": [],
   "source": [
    "extract = []"
   ]
  },
  {
   "cell_type": "code",
   "execution_count": 24,
   "metadata": {},
   "outputs": [],
   "source": [
    "for elem in b['TextDetections']:\n",
    "    extract.append(elem['DetectedText'])"
   ]
  },
  {
   "cell_type": "code",
   "execution_count": 25,
   "metadata": {},
   "outputs": [
    {
     "data": {
      "text/plain": [
       "['COSTCO',\n",
       " 'EVITIOLESALE',\n",
       " 'Guelph #1168',\n",
       " '19 Elmira Road South',\n",
       " 'Guelph, ON N1K OB6',\n",
       " 'ZT Member',\n",
       " '111787651624',\n",
       " '8777881',\n",
       " 'Z FLIP5',\n",
       " '297.99',\n",
       " 'H',\n",
       " '1791797 TPD/8777881',\n",
       " '220.00- HAN H',\n",
       " 'SUBTOTAL',\n",
       " '1,077.99',\n",
       " 'TAX',\n",
       " '140.14',\n",
       " '**** TOTAL',\n",
       " '1,218.13',\n",
       " 'XXXXXXXXXXXX4500',\n",
       " 'O',\n",
       " 'RCCT: MASTERCARD',\n",
       " 'REFERENCE #: 0010016580 C',\n",
       " '2023/11/23 15:51:01',\n",
       " 'AUTH *: 27152J',\n",
       " 'Invoice Number: 009658',\n",
       " 'Purchase - Mastercard',\n",
       " 'A0000000041010',\n",
       " '008000 Е800',\n",
       " 'pl',\n",
       " '01 APPROVED - THANK YOU 027',\n",
       " 'AMOUNT: 1,218.13',\n",
       " 'a',\n",
       " 'IMPORTANT - retain this COPY',\n",
       " 'for your records',\n",
       " 'CUSTOMER COPY',\n",
       " '1,218.13',\n",
       " 'MasterCard',\n",
       " '0.00',\n",
       " 'CHANGE',\n",
       " '140.14',\n",
       " '1',\n",
       " 'P (H)HST 13%',\n",
       " '$ 220.00',\n",
       " 'TOTAL NUMBER OF ITEMS SOLD',\n",
       " 'TOTAL DISCOUNT(S)',\n",
       " '107 369 و 1168 15:51:03 2023/11/23',\n",
       " '**************************************',\n",
       " 'Electronics Return',\n",
       " 'Policy Information',\n",
       " 'COSTCO',\n",
       " 'EVITIOLESALE',\n",
       " 'Guelph',\n",
       " '#1168',\n",
       " '19',\n",
       " 'Elmira',\n",
       " 'Road',\n",
       " 'South',\n",
       " 'Guelph,',\n",
       " 'ON',\n",
       " 'N1K',\n",
       " 'OB6',\n",
       " 'ZT',\n",
       " 'Member',\n",
       " '111787651624',\n",
       " '8777881',\n",
       " 'Z',\n",
       " 'FLIP5',\n",
       " '297.99',\n",
       " 'H',\n",
       " '1791797',\n",
       " 'TPD/8777881',\n",
       " '220.00- HAN',\n",
       " 'H',\n",
       " 'SUBTOTAL',\n",
       " '1,077.99',\n",
       " 'TAX',\n",
       " '140.14',\n",
       " '****',\n",
       " 'TOTAL',\n",
       " '1,218.13',\n",
       " 'XXXXXXXXXXXX4500',\n",
       " 'O',\n",
       " 'RCCT:',\n",
       " 'MASTERCARD',\n",
       " 'REFERENCE',\n",
       " '#:',\n",
       " '0010016580',\n",
       " 'C',\n",
       " '2023/11/23',\n",
       " '15:51:01',\n",
       " 'AUTH',\n",
       " '*:',\n",
       " '27152J',\n",
       " 'Invoice',\n",
       " 'Number:',\n",
       " '009658',\n",
       " 'Purchase - Mastercard',\n",
       " 'A0000000041010',\n",
       " '008000',\n",
       " 'Е800',\n",
       " 'pl',\n",
       " '01',\n",
       " 'APPROVED - THANK',\n",
       " 'YOU',\n",
       " '027',\n",
       " 'AMOUNT:',\n",
       " '1,218.13',\n",
       " 'a',\n",
       " 'IMPORTANT - retain',\n",
       " 'this',\n",
       " 'COPY',\n",
       " 'for',\n",
       " 'your',\n",
       " 'records',\n",
       " 'CUSTOMER',\n",
       " 'COPY',\n",
       " '1,218.13',\n",
       " 'MasterCard',\n",
       " '0.00',\n",
       " 'CHANGE',\n",
       " '140.14',\n",
       " '1',\n",
       " 'P',\n",
       " '(H)HST',\n",
       " '13%',\n",
       " '$',\n",
       " '220.00',\n",
       " 'TOTAL',\n",
       " 'NUMBER',\n",
       " 'OF',\n",
       " 'ITEMS',\n",
       " 'SOLD',\n",
       " 'TOTAL',\n",
       " 'DISCOUNT(S)',\n",
       " '107',\n",
       " '369',\n",
       " 'و',\n",
       " '1168',\n",
       " '15:51:03',\n",
       " '2023/11/23',\n",
       " '**************************************',\n",
       " 'Electronics',\n",
       " 'Return',\n",
       " 'Policy',\n",
       " 'Information']"
      ]
     },
     "execution_count": 25,
     "metadata": {},
     "output_type": "execute_result"
    }
   ],
   "source": [
    "extract"
   ]
  },
  {
   "cell_type": "code",
   "execution_count": 26,
   "metadata": {},
   "outputs": [
    {
     "name": "stdout",
     "output_type": "stream",
     "text": [
      "COSTCO EVITIOLESALE Guelph #1168 19 Elmira Road South Guelph, ON N1K OB6 ZT Member 111787651624 8777881 Z FLIP5 297.99 H 1791797 TPD/8777881 220.00- HAN H SUBTOTAL 1,077.99 TAX 140.14 **** TOTAL 1,218.13 XXXXXXXXXXXX4500 O RCCT: MASTERCARD REFERENCE #: 0010016580 C 2023/11/23 15:51:01 AUTH *: 27152J Invoice Number: 009658 Purchase - Mastercard A0000000041010 008000 Е800 pl 01 APPROVED - THANK YOU 027 AMOUNT: 1,218.13 a IMPORTANT - retain this COPY for your records CUSTOMER COPY 1,218.13 MasterCard 0.00 CHANGE 140.14 1 P (H)HST 13% $ 220.00 TOTAL NUMBER OF ITEMS SOLD TOTAL DISCOUNT(S) 107 369 و 1168 15:51:03 2023/11/23 ************************************** Electronics Return Policy Information COSTCO EVITIOLESALE Guelph #1168 19 Elmira Road South Guelph, ON N1K OB6 ZT Member 111787651624 8777881 Z FLIP5 297.99 H 1791797 TPD/8777881 220.00- HAN H SUBTOTAL 1,077.99 TAX 140.14 **** TOTAL 1,218.13 XXXXXXXXXXXX4500 O RCCT: MASTERCARD REFERENCE #: 0010016580 C 2023/11/23 15:51:01 AUTH *: 27152J Invoice Number: 009658 Purchase - Mastercard A0000000041010 008000 Е800 pl 01 APPROVED - THANK YOU 027 AMOUNT: 1,218.13 a IMPORTANT - retain this COPY for your records CUSTOMER COPY 1,218.13 MasterCard 0.00 CHANGE 140.14 1 P (H)HST 13% $ 220.00 TOTAL NUMBER OF ITEMS SOLD TOTAL DISCOUNT(S) 107 369 و 1168 15:51:03 2023/11/23 ************************************** Electronics Return Policy Information\n"
     ]
    }
   ],
   "source": [
    "print(*extract)"
   ]
  },
  {
   "cell_type": "code",
   "execution_count": 29,
   "metadata": {},
   "outputs": [],
   "source": [
    "from dotenv import load_dotenv\n",
    "from openai import OpenAI\n",
    "import os\n",
    "\n",
    "load_dotenv()\n",
    "\n",
    "client = OpenAI(\n",
    "    # This is the default and can be omitted\n",
    "    api_key= os.getenv(\"API_KEY\"),\n",
    ")\n",
    "\n",
    "def parse_receipt(aws_response):\n",
    "    prompt = \"This list shows text extracted from a paper receipt.\\n\"\n",
    "\n",
    "    # clean up response to only include text content\n",
    "    aws_response = [elem['DetectedText'] for elem in a['TextDetections']]\n",
    "\n",
    "    receipt_list = \"\"\n",
    "    for item in aws_response:\n",
    "        receipt_list += f\"- {item}\\n\"\n",
    "\n",
    "    prompt += receipt_list + \"\\nReturn in JSON format the vendor where the purchase occurred, the product purchased, the date of purchase, and the cost of that service.\"\n",
    "\n",
    "    # print(prompt)\n",
    "\n",
    "    chat_completion = client.chat.completions.create(\n",
    "        messages=[\n",
    "            {\n",
    "                \"role\": \"user\",\n",
    "                \"content\": f\"{str(aws_response)}\\n\\n{prompt}\",\n",
    "            }\n",
    "        ],\n",
    "        model=\"gpt-3.5-turbo\",\n",
    "    )\n",
    "\n",
    "    # chat completion object\n",
    "    completion_obj = chat_completion.choices[0].message\n",
    "\n",
    "    # get content\n",
    "    return completion_obj.content"
   ]
  },
  {
   "cell_type": "code",
   "execution_count": 30,
   "metadata": {},
   "outputs": [],
   "source": [
    "a = parse_receipt(b)"
   ]
  },
  {
   "cell_type": "code",
   "execution_count": 32,
   "metadata": {},
   "outputs": [
    {
     "data": {
      "text/plain": [
       "{'vendor': 'ROYAL AUTO CENTRE EMIS',\n",
       " 'product': 'VISA CREDIT',\n",
       " 'date': '11/04/23',\n",
       " 'cost': '$551.44'}"
      ]
     },
     "execution_count": 32,
     "metadata": {},
     "output_type": "execute_result"
    }
   ],
   "source": [
    "json.loads(a)"
   ]
  }
 ],
 "metadata": {
  "kernelspec": {
   "display_name": "snaptrack-Y57Zj7yC-py3.9",
   "language": "python",
   "name": "python3"
  },
  "language_info": {
   "codemirror_mode": {
    "name": "ipython",
    "version": 3
   },
   "file_extension": ".py",
   "mimetype": "text/x-python",
   "name": "python",
   "nbconvert_exporter": "python",
   "pygments_lexer": "ipython3",
   "version": "3.9.13"
  }
 },
 "nbformat": 4,
 "nbformat_minor": 2
}
