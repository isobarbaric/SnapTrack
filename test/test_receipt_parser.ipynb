{
 "cells": [
  {
   "cell_type": "code",
   "execution_count": 1,
   "metadata": {},
   "outputs": [],
   "source": [
    "a = [{'name': 'Amount', 'type': 'number'}, {'name': 'Date', 'type': 'date'}, {'name': 'Domains', 'type': 'multi_select'}, {'name': 'What', 'type': 'select'}, {'name': 'Product', 'type': 'title'}]"
   ]
  },
  {
   "cell_type": "code",
   "execution_count": 9,
   "metadata": {},
   "outputs": [],
   "source": [
    "def get_target(target, columns):\n",
    "    for item in columns:\n",
    "        if item['name'] == target:\n",
    "            return item\n",
    "    return -1"
   ]
  },
  {
   "cell_type": "code",
   "execution_count": 10,
   "metadata": {},
   "outputs": [],
   "source": [
    "target = 'Date'"
   ]
  },
  {
   "cell_type": "code",
   "execution_count": 11,
   "metadata": {},
   "outputs": [
    {
     "data": {
      "text/plain": [
       "{'name': 'Date', 'type': 'date'}"
      ]
     },
     "execution_count": 11,
     "metadata": {},
     "output_type": "execute_result"
    }
   ],
   "source": [
    "get_target(target, a)"
   ]
  },
  {
   "cell_type": "code",
   "execution_count": 3,
   "metadata": {},
   "outputs": [
    {
     "data": {
      "text/plain": [
       "['Electronics']"
      ]
     },
     "execution_count": 3,
     "metadata": {},
     "output_type": "execute_result"
    }
   ],
   "source": [
    "import ast\n",
    "ast.literal_eval(\"['Electronics']\")"
   ]
  },
  {
   "cell_type": "code",
   "execution_count": 4,
   "metadata": {},
   "outputs": [],
   "source": [
    "a = [{'Amount': '297.99', 'Date': '2023/11/23', 'Product': 'Z FLIP5', 'Domains': ['Electronics'], 'What': 'Education'}, {'Amount': '1,077.99', 'Date': '2023/11/23', 'Product': 'SUBTOTAL', 'Domains': ['Resource', 'Education'], 'What': 'Education'}, {'Amount': '140.14', 'Date': '2023/11/23', 'Product': 'TAX', 'Domains': ['Resource'], 'What': 'Education'}, {'Amount': '1,218.13', 'Date': '2023/11/23', 'Product': 'TOTAL', 'Domains': ['Resource', 'Transportation', 'Education'], 'What': 'Education'}, {'Amount': '1,218.13', 'Date': '2023/11/23', 'Product': 'AMOUNT', 'Domains': ['Transportation', 'Education'], 'What': 'Education'}, {'Amount': '140.14', 'Date': '2023/11/23', 'Product': 'CHANGE', 'Domains': ['Resource', 'Car'], 'What': 'Education'}, {'Amount': '', 'Date': '2023/11/23', 'Product': 'P (H)HST 13%', 'Domains': ['Food', 'Resource'], 'What': 'Education'}, {'Amount': '$ 220.00', 'Date': '2023/11/23', 'Product': 'TOTAL NUMBER OF ITEMS SOLD', 'Domains': ['Food', 'Resource'], 'What': 'Cookware'}]"
   ]
  },
  {
   "cell_type": "code",
   "execution_count": 5,
   "metadata": {},
   "outputs": [
    {
     "data": {
      "text/plain": [
       "[{'Amount': '297.99',\n",
       "  'Date': '2023/11/23',\n",
       "  'Product': 'Z FLIP5',\n",
       "  'Domains': ['Electronics'],\n",
       "  'What': 'Education'},\n",
       " {'Amount': '1,077.99',\n",
       "  'Date': '2023/11/23',\n",
       "  'Product': 'SUBTOTAL',\n",
       "  'Domains': ['Resource', 'Education'],\n",
       "  'What': 'Education'},\n",
       " {'Amount': '140.14',\n",
       "  'Date': '2023/11/23',\n",
       "  'Product': 'TAX',\n",
       "  'Domains': ['Resource'],\n",
       "  'What': 'Education'},\n",
       " {'Amount': '1,218.13',\n",
       "  'Date': '2023/11/23',\n",
       "  'Product': 'TOTAL',\n",
       "  'Domains': ['Resource', 'Transportation', 'Education'],\n",
       "  'What': 'Education'},\n",
       " {'Amount': '1,218.13',\n",
       "  'Date': '2023/11/23',\n",
       "  'Product': 'AMOUNT',\n",
       "  'Domains': ['Transportation', 'Education'],\n",
       "  'What': 'Education'},\n",
       " {'Amount': '140.14',\n",
       "  'Date': '2023/11/23',\n",
       "  'Product': 'CHANGE',\n",
       "  'Domains': ['Resource', 'Car'],\n",
       "  'What': 'Education'},\n",
       " {'Amount': '',\n",
       "  'Date': '2023/11/23',\n",
       "  'Product': 'P (H)HST 13%',\n",
       "  'Domains': ['Food', 'Resource'],\n",
       "  'What': 'Education'},\n",
       " {'Amount': '$ 220.00',\n",
       "  'Date': '2023/11/23',\n",
       "  'Product': 'TOTAL NUMBER OF ITEMS SOLD',\n",
       "  'Domains': ['Food', 'Resource'],\n",
       "  'What': 'Cookware'}]"
      ]
     },
     "execution_count": 5,
     "metadata": {},
     "output_type": "execute_result"
    }
   ],
   "source": [
    "a"
   ]
  },
  {
   "cell_type": "code",
   "execution_count": 6,
   "metadata": {},
   "outputs": [
    {
     "data": {
      "text/plain": [
       "\"['a','b','c']\""
      ]
     },
     "execution_count": 6,
     "metadata": {},
     "output_type": "execute_result"
    }
   ],
   "source": [
    "a = \"['a','b','c']\"\n",
    "str(a)"
   ]
  },
  {
   "cell_type": "code",
   "execution_count": null,
   "metadata": {},
   "outputs": [],
   "source": []
  }
 ],
 "metadata": {
  "kernelspec": {
   "display_name": "snaptrack-Y57Zj7yC-py3.9",
   "language": "python",
   "name": "python3"
  },
  "language_info": {
   "codemirror_mode": {
    "name": "ipython",
    "version": 3
   },
   "file_extension": ".py",
   "mimetype": "text/x-python",
   "name": "python",
   "nbconvert_exporter": "python",
   "pygments_lexer": "ipython3",
   "version": "3.9.13"
  }
 },
 "nbformat": 4,
 "nbformat_minor": 2
}
