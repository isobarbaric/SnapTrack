{
 "cells": [
  {
   "cell_type": "code",
   "execution_count": 1,
   "metadata": {},
   "outputs": [],
   "source": [
    "from dotenv import load_dotenv\n",
    "import os\n",
    "\n",
    "load_dotenv()\n",
    "\n",
    "notion_token = os.environ[\"NOTION_TOKEN\"]\n",
    "database_id = os.environ[\"NOTION_DATABASE_ID\"]"
   ]
  },
  {
   "cell_type": "code",
   "execution_count": 2,
   "metadata": {},
   "outputs": [
    {
     "name": "stdout",
     "output_type": "stream",
     "text": [
      "{'object': 'page', 'id': 'b679dedf-fea7-4eb8-b79a-81d6f2aa5146', 'created_time': '2024-01-02T22:50:00.000Z', 'last_edited_time': '2024-01-02T22:50:00.000Z', 'created_by': {'object': 'user', 'id': '3f92a566-ecbf-40d0-b562-37f345386105'}, 'last_edited_by': {'object': 'user', 'id': '3f92a566-ecbf-40d0-b562-37f345386105'}, 'cover': None, 'icon': None, 'parent': {'type': 'database_id', 'database_id': '7dc10079-5665-42aa-9d61-189e4fd415e8'}, 'archived': False, 'properties': {'Amount': {'id': '%3EKfj', 'type': 'number', 'number': 12.99}, 'Date': {'id': 'A%5Ck_', 'type': 'date', 'date': {'start': '2024-01-02', 'end': None, 'time_zone': None}}, 'What': {'id': 'n%7C%5Ce', 'type': 'multi_select', 'multi_select': [{'id': '059d3e39-29eb-4fba-8ddd-899a5cfcabe0', 'name': 'Study', 'color': 'orange'}]}, 'Place': {'id': 'title', 'type': 'title', 'title': [{'type': 'text', 'text': {'content': 'Textbook', 'link': None}, 'annotations': {'bold': False, 'italic': False, 'strikethrough': False, 'underline': False, 'code': False, 'color': 'default'}, 'plain_text': 'Textbook', 'href': None}]}}, 'url': 'https://www.notion.so/Textbook-b679dedffea74eb8b79a81d6f2aa5146', 'public_url': None}\n",
      "{'object': 'page', 'id': '07746f57-4a05-49f0-9339-62307525a5e6', 'created_time': '2024-01-02T18:55:00.000Z', 'last_edited_time': '2024-01-02T18:55:00.000Z', 'created_by': {'object': 'user', 'id': 'fd3bd76b-88ad-455f-acef-6c20d04a8373'}, 'last_edited_by': {'object': 'user', 'id': 'fd3bd76b-88ad-455f-acef-6c20d04a8373'}, 'cover': None, 'icon': {'type': 'external', 'external': {'url': 'https://www.notion.so/icons/book-closed_gray.svg'}}, 'parent': {'type': 'database_id', 'database_id': '7dc10079-5665-42aa-9d61-189e4fd415e8'}, 'archived': False, 'properties': {'Amount': {'id': '%3EKfj', 'type': 'number', 'number': -15235.76}, 'Date': {'id': 'A%5Ck_', 'type': 'date', 'date': {'start': '2024-01-05', 'end': None, 'time_zone': None}}, 'What': {'id': 'n%7C%5Ce', 'type': 'multi_select', 'multi_select': [{'id': '059d3e39-29eb-4fba-8ddd-899a5cfcabe0', 'name': 'Study', 'color': 'orange'}]}, 'Place': {'id': 'title', 'type': 'title', 'title': [{'type': 'text', 'text': {'content': 'University', 'link': None}, 'annotations': {'bold': False, 'italic': False, 'strikethrough': False, 'underline': False, 'code': False, 'color': 'default'}, 'plain_text': 'University', 'href': None}]}}, 'url': 'https://www.notion.so/University-07746f574a0549f0933962307525a5e6', 'public_url': None}\n",
      "{'object': 'page', 'id': '6ada77e1-044e-4374-8a24-8187f8fdd313', 'created_time': '2024-01-02T18:29:00.000Z', 'last_edited_time': '2024-01-02T22:15:00.000Z', 'created_by': {'object': 'user', 'id': 'fd3bd76b-88ad-455f-acef-6c20d04a8373'}, 'last_edited_by': {'object': 'user', 'id': 'fd3bd76b-88ad-455f-acef-6c20d04a8373'}, 'cover': None, 'icon': {'type': 'external', 'external': {'url': 'https://www.notion.so/icons/flood_gray.svg'}}, 'parent': {'type': 'database_id', 'database_id': '7dc10079-5665-42aa-9d61-189e4fd415e8'}, 'archived': False, 'properties': {'Amount': {'id': '%3EKfj', 'type': 'number', 'number': 3.36}, 'Date': {'id': 'A%5Ck_', 'type': 'date', 'date': {'start': '2024-01-02', 'end': None, 'time_zone': None}}, 'What': {'id': 'n%7C%5Ce', 'type': 'multi_select', 'multi_select': [{'id': 'c43212b0-5288-4cde-9235-352dee6442ec', 'name': 'Programming', 'color': 'green'}]}, 'Place': {'id': 'title', 'type': 'title', 'title': [{'type': 'text', 'text': {'content': 'Home', 'link': None}, 'annotations': {'bold': False, 'italic': False, 'strikethrough': False, 'underline': False, 'code': False, 'color': 'default'}, 'plain_text': 'Home', 'href': None}]}}, 'url': 'https://www.notion.so/Home-6ada77e1044e43748a248187f8fdd313', 'public_url': None}\n"
     ]
    }
   ],
   "source": [
    "from snaptrack.notion import NotionDB\n",
    "db = NotionDB(notion_token, database_id)"
   ]
  },
  {
   "cell_type": "code",
   "execution_count": 5,
   "metadata": {},
   "outputs": [],
   "source": [
    "db_retrieve = db.notion.databases.retrieve(database_id)"
   ]
  },
  {
   "cell_type": "code",
   "execution_count": 6,
   "metadata": {},
   "outputs": [
    {
     "data": {
      "text/plain": [
       "{'object': 'database',\n",
       " 'id': '7dc10079-5665-42aa-9d61-189e4fd415e8',\n",
       " 'cover': None,\n",
       " 'icon': None,\n",
       " 'created_time': '2024-01-02T18:26:00.000Z',\n",
       " 'created_by': {'object': 'user',\n",
       "  'id': 'fd3bd76b-88ad-455f-acef-6c20d04a8373'},\n",
       " 'last_edited_by': {'object': 'user',\n",
       "  'id': 'fd3bd76b-88ad-455f-acef-6c20d04a8373'},\n",
       " 'last_edited_time': '2024-01-03T01:25:00.000Z',\n",
       " 'title': [{'type': 'text',\n",
       "   'text': {'content': 'DemoDB', 'link': None},\n",
       "   'annotations': {'bold': False,\n",
       "    'italic': False,\n",
       "    'strikethrough': False,\n",
       "    'underline': False,\n",
       "    'code': False,\n",
       "    'color': 'default'},\n",
       "   'plain_text': 'DemoDB',\n",
       "   'href': None}],\n",
       " 'description': [],\n",
       " 'is_inline': False,\n",
       " 'properties': {'Amount': {'id': '%3EKfj',\n",
       "   'name': 'Amount',\n",
       "   'type': 'number',\n",
       "   'number': {'format': 'dollar'}},\n",
       "  'Date': {'id': 'A%5Ck_', 'name': 'Date', 'type': 'date', 'date': {}},\n",
       "  'What': {'id': 'n%7C%5Ce',\n",
       "   'name': 'What',\n",
       "   'type': 'multi_select',\n",
       "   'multi_select': {'options': [{'id': 'c43212b0-5288-4cde-9235-352dee6442ec',\n",
       "      'name': 'Programming',\n",
       "      'color': 'green',\n",
       "      'description': None},\n",
       "     {'id': '059d3e39-29eb-4fba-8ddd-899a5cfcabe0',\n",
       "      'name': 'Study',\n",
       "      'color': 'orange',\n",
       "      'description': None},\n",
       "     {'id': 'ac369519-5e6f-49f4-99f1-2f5965ad6903',\n",
       "      'name': 'Food',\n",
       "      'color': 'default',\n",
       "      'description': None}]}},\n",
       "  'Place': {'id': 'title', 'name': 'Place', 'type': 'title', 'title': {}}},\n",
       " 'parent': {'type': 'page_id',\n",
       "  'page_id': '4fb20702-08ba-49c3-af1e-5d9284917b16'},\n",
       " 'url': 'https://www.notion.so/7dc10079566542aa9d61189e4fd415e8',\n",
       " 'public_url': None,\n",
       " 'archived': False,\n",
       " 'request_id': '2622d2b6-a71b-40eb-ac44-ba14211826f9'}"
      ]
     },
     "execution_count": 6,
     "metadata": {},
     "output_type": "execute_result"
    }
   ],
   "source": [
    "db_retrieve"
   ]
  },
  {
   "cell_type": "code",
   "execution_count": 7,
   "metadata": {},
   "outputs": [
    {
     "data": {
      "text/plain": [
       "{'Amount': {'id': '%3EKfj',\n",
       "  'name': 'Amount',\n",
       "  'type': 'number',\n",
       "  'number': {'format': 'dollar'}},\n",
       " 'Date': {'id': 'A%5Ck_', 'name': 'Date', 'type': 'date', 'date': {}},\n",
       " 'What': {'id': 'n%7C%5Ce',\n",
       "  'name': 'What',\n",
       "  'type': 'multi_select',\n",
       "  'multi_select': {'options': [{'id': 'c43212b0-5288-4cde-9235-352dee6442ec',\n",
       "     'name': 'Programming',\n",
       "     'color': 'green',\n",
       "     'description': None},\n",
       "    {'id': '059d3e39-29eb-4fba-8ddd-899a5cfcabe0',\n",
       "     'name': 'Study',\n",
       "     'color': 'orange',\n",
       "     'description': None},\n",
       "    {'id': 'ac369519-5e6f-49f4-99f1-2f5965ad6903',\n",
       "     'name': 'Food',\n",
       "     'color': 'default',\n",
       "     'description': None}]}},\n",
       " 'Place': {'id': 'title', 'name': 'Place', 'type': 'title', 'title': {}}}"
      ]
     },
     "execution_count": 7,
     "metadata": {},
     "output_type": "execute_result"
    }
   ],
   "source": [
    "db_retrieve['properties']"
   ]
  },
  {
   "cell_type": "code",
   "execution_count": 9,
   "metadata": {},
   "outputs": [
    {
     "data": {
      "text/plain": [
       "{'id': 'n%7C%5Ce',\n",
       " 'name': 'What',\n",
       " 'type': 'multi_select',\n",
       " 'multi_select': {'options': [{'id': 'c43212b0-5288-4cde-9235-352dee6442ec',\n",
       "    'name': 'Programming',\n",
       "    'color': 'green',\n",
       "    'description': None},\n",
       "   {'id': '059d3e39-29eb-4fba-8ddd-899a5cfcabe0',\n",
       "    'name': 'Study',\n",
       "    'color': 'orange',\n",
       "    'description': None},\n",
       "   {'id': 'ac369519-5e6f-49f4-99f1-2f5965ad6903',\n",
       "    'name': 'Food',\n",
       "    'color': 'default',\n",
       "    'description': None}]}}"
      ]
     },
     "execution_count": 9,
     "metadata": {},
     "output_type": "execute_result"
    }
   ],
   "source": [
    "db_retrieve['properties']['What']"
   ]
  },
  {
   "cell_type": "code",
   "execution_count": 12,
   "metadata": {},
   "outputs": [
    {
     "data": {
      "text/plain": [
       "[{'id': 'c43212b0-5288-4cde-9235-352dee6442ec',\n",
       "  'name': 'Programming',\n",
       "  'color': 'green',\n",
       "  'description': None},\n",
       " {'id': '059d3e39-29eb-4fba-8ddd-899a5cfcabe0',\n",
       "  'name': 'Study',\n",
       "  'color': 'orange',\n",
       "  'description': None},\n",
       " {'id': 'ac369519-5e6f-49f4-99f1-2f5965ad6903',\n",
       "  'name': 'Food',\n",
       "  'color': 'default',\n",
       "  'description': None}]"
      ]
     },
     "execution_count": 12,
     "metadata": {},
     "output_type": "execute_result"
    }
   ],
   "source": [
    "db_retrieve['properties']['What']['multi_select']['options']"
   ]
  },
  {
   "cell_type": "code",
   "execution_count": 13,
   "metadata": {},
   "outputs": [
    {
     "data": {
      "text/plain": [
       "['Programming', 'Study', 'Food']"
      ]
     },
     "execution_count": 13,
     "metadata": {},
     "output_type": "execute_result"
    }
   ],
   "source": [
    "[option['name'] for option in db_retrieve['properties']['What']['multi_select']['options']]"
   ]
  },
  {
   "cell_type": "code",
   "execution_count": 3,
   "metadata": {},
   "outputs": [
    {
     "data": {
      "text/plain": [
       "['Amount', 'Date', 'What', 'Place']"
      ]
     },
     "execution_count": 3,
     "metadata": {},
     "output_type": "execute_result"
    }
   ],
   "source": [
    "db.columns"
   ]
  },
  {
   "cell_type": "code",
   "execution_count": 4,
   "metadata": {},
   "outputs": [],
   "source": [
    "from snaptrack.receipt_parser import ReceiptParser\n",
    "receipt_parser = ReceiptParser()"
   ]
  },
  {
   "cell_type": "code",
   "execution_count": 5,
   "metadata": {},
   "outputs": [
    {
     "name": "stdout",
     "output_type": "stream",
     "text": [
      "This list is text extracted from a paper receipt: [COSTCO, EVITIOLESALE, Guelph #1168, 19 Elmira Road South, Guelph, ON N1K OB6, ZT Member, 111787651624, 8777881, Z FLIP5, 297.99, H, 1791797 TPD/8777881, 220.00- HAN H, SUBTOTAL, 1,077.99, TAX, 140.14, **** TOTAL, 1,218.13, XXXXXXXXXXXX4500, O, RCCT: MASTERCARD, REFERENCE #: 0010016580 C, 2023/11/23 15:51:01, AUTH *: 27152J, Invoice Number: 009658, Purchase - Mastercard, A0000000041010, 008000 Е800, pl, 01 APPROVED - THANK YOU 027, AMOUNT: 1,218.13, a, IMPORTANT - retain this COPY, for your records, CUSTOMER COPY, 1,218.13, MasterCard, 0.00, CHANGE, 140.14, 1, P (H)HST 13%, $ 220.00, TOTAL NUMBER OF ITEMS SOLD, TOTAL DISCOUNT(S), 107 369 و 1168 15:51:03 2023/11/23, **************************************, Electronics Return, Policy Information, COSTCO, EVITIOLESALE, Guelph, #1168, 19, Elmira, Road, South, Guelph,, ON, N1K, OB6, ZT, Member, 111787651624, 8777881, Z, FLIP5, 297.99, H, 1791797, TPD/8777881, 220.00- HAN, H, SUBTOTAL, 1,077.99, TAX, 140.14, ****, TOTAL, 1,218.13, XXXXXXXXXXXX4500, O, RCCT:, MASTERCARD, REFERENCE, #:, 0010016580, C, 2023/11/23, 15:51:01, AUTH, *:, 27152J, Invoice, Number:, 009658, Purchase - Mastercard, A0000000041010, 008000, Е800, pl, 01, APPROVED - THANK, YOU, 027, AMOUNT:, 1,218.13, a, IMPORTANT - retain, this, COPY, for, your, records, CUSTOMER, COPY, 1,218.13, MasterCard, 0.00, CHANGE, 140.14, 1, P, (H)HST, 13%, $, 220.00, TOTAL, NUMBER, OF, ITEMS, SOLD, TOTAL, DISCOUNT(S), 107, 369, و, 1168, 15:51:03, 2023/11/23, **************************************, Electronics, Return, Policy, Information]\n",
      "Return in JSON format the following information about each of the products on the receipt: \n",
      "- Amount \n",
      "- Date \n",
      "- What \n",
      "- Place \n",
      "Do this for every single product on the receipt, and the format should be a list of such JSON objects.\n",
      "ChatCompletionMessage(content='[\\n  {\\n    \"Amount\": \"297.99\",\\n    \"Date\": \"2023/11/23 15:51:01\",\\n    \"What\": \"Z FLIP5\",\\n    \"Place\": \"COSTCO, EVITIOLESALE, Guelph #1168, 19 Elmira Road South, Guelph, ON N1K OB6\"\\n  },\\n  {\\n    \"Amount\": \"220.00\",\\n    \"Date\": \"2023/11/23 15:51:01\",\\n    \"What\": \"TPD/8777881\",\\n    \"Place\": \"COSTCO, EVITIOLESALE, Guelph #1168, 19 Elmira Road South, Guelph, ON N1K OB6\"\\n  }\\n]', role='assistant', function_call=None, tool_calls=None)\n"
     ]
    },
    {
     "data": {
      "text/plain": [
       "[{'Amount': '297.99',\n",
       "  'Date': '2023/11/23 15:51:01',\n",
       "  'What': 'Z FLIP5',\n",
       "  'Place': 'COSTCO, EVITIOLESALE, Guelph #1168, 19 Elmira Road South, Guelph, ON N1K OB6'},\n",
       " {'Amount': '220.00',\n",
       "  'Date': '2023/11/23 15:51:01',\n",
       "  'What': 'TPD/8777881',\n",
       "  'Place': 'COSTCO, EVITIOLESALE, Guelph #1168, 19 Elmira Road South, Guelph, ON N1K OB6'}]"
      ]
     },
     "execution_count": 5,
     "metadata": {},
     "output_type": "execute_result"
    }
   ],
   "source": [
    "receipt_parser.parse(\"../data/receipts/receipt1.jpg\", categories=db.columns)"
   ]
  },
  {
   "cell_type": "markdown",
   "metadata": {},
   "source": [
    "select, multiselect need to have specific prompts"
   ]
  }
 ],
 "metadata": {
  "kernelspec": {
   "display_name": "snaptrack-Y57Zj7yC-py3.9",
   "language": "python",
   "name": "python3"
  },
  "language_info": {
   "codemirror_mode": {
    "name": "ipython",
    "version": 3
   },
   "file_extension": ".py",
   "mimetype": "text/x-python",
   "name": "python",
   "nbconvert_exporter": "python",
   "pygments_lexer": "ipython3",
   "version": "3.9.13"
  }
 },
 "nbformat": 4,
 "nbformat_minor": 2
}
